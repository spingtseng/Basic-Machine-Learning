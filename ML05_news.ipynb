{
  "nbformat": 4,
  "nbformat_minor": 0,
  "metadata": {
    "colab": {
      "name": "ML05_news.ipynb",
      "provenance": [],
      "collapsed_sections": [],
      "mount_file_id": "1R1FsgE0LY7akFq_FbgsszvOXETI7MX9I",
      "authorship_tag": "ABX9TyPh2ZuuClDXX4dabmwYd6Vj",
      "include_colab_link": true
    },
    "kernelspec": {
      "name": "python3",
      "display_name": "Python 3"
    }
  },
  "cells": [
    {
      "cell_type": "markdown",
      "metadata": {
        "id": "view-in-github",
        "colab_type": "text"
      },
      "source": [
        "<a href=\"https://colab.research.google.com/github/spingtseng/Basic-Machine-Learning/blob/main/ML05_news.ipynb\" target=\"_parent\"><img src=\"https://colab.research.google.com/assets/colab-badge.svg\" alt=\"Open In Colab\"/></a>"
      ]
    },
    {
      "cell_type": "code",
      "metadata": {
        "id": "b5faua6p2suW"
      },
      "source": [
        "from zipfile import ZipFile\n",
        "f = ZipFile(\"/content/drive/MyDrive/news/chinese_news_test.zip 的副本\")\n",
        "f.extractall()\n",
        "f = ZipFile(\"/content/drive/MyDrive/news/chinese_news_trans.zip 的副本\")\n",
        "f.extractall()"
      ],
      "execution_count": null,
      "outputs": []
    },
    {
      "cell_type": "code",
      "metadata": {
        "id": "yPivzchh4FOP"
      },
      "source": [
        "import os\n",
        "import glob\n",
        "import pandas as pd\n",
        "def process(base):\n",
        "    datas = {\n",
        "        \"content\":[],\n",
        "        \"ans\":[]\n",
        "    }\n",
        "    # os.path.join 將多個path組合後返回\n",
        "    # * 找出所有\n",
        "    dirs = glob.glob(os.path.join(base, \"*\"))    \n",
        "    for d in dirs:\n",
        "        # 所有的d (環境、交通....)\n",
        "        fns1 = os.path.join(d, \"*.txt\")\n",
        "        fns2 = os.path.join(d, \"*.TXT\")\n",
        "        fns = glob.glob(fns1) + glob.glob(fns2)\n",
        "        for fn in fns:\n",
        "            with open(fn, \"r\", encoding=\"utf-8\") as f:\n",
        "                datas[\"content\"].append(f.read())\n",
        "            datas[\"ans\"].append(os.path.split(d)[-1])\n",
        "    df = pd.DataFrame(datas)\n",
        "    return df\n",
        "train_df = process(\"chinese_news_trans\")\n",
        "test_df = process(\"chinese_news_test\")"
      ],
      "execution_count": null,
      "outputs": []
    },
    {
      "cell_type": "code",
      "metadata": {
        "colab": {
          "base_uri": "https://localhost:8080/",
          "height": 419
        },
        "id": "PF4t59Cp8oGw",
        "outputId": "fbf42631-b531-4884-e082-aeaaf818bcb4"
      },
      "source": [
        "train_df"
      ],
      "execution_count": null,
      "outputs": [
        {
          "output_type": "execute_result",
          "data": {
            "text/html": [
              "<div>\n",
              "<style scoped>\n",
              "    .dataframe tbody tr th:only-of-type {\n",
              "        vertical-align: middle;\n",
              "    }\n",
              "\n",
              "    .dataframe tbody tr th {\n",
              "        vertical-align: top;\n",
              "    }\n",
              "\n",
              "    .dataframe thead th {\n",
              "        text-align: right;\n",
              "    }\n",
              "</style>\n",
              "<table border=\"1\" class=\"dataframe\">\n",
              "  <thead>\n",
              "    <tr style=\"text-align: right;\">\n",
              "      <th></th>\n",
              "      <th>content</th>\n",
              "      <th>ans</th>\n",
              "    </tr>\n",
              "  </thead>\n",
              "  <tbody>\n",
              "    <tr>\n",
              "      <th>0</th>\n",
              "      <td>日月光華 -- FDU_E.S.E.精華區文章閱讀\\n-------------------...</td>\n",
              "      <td>環境</td>\n",
              "    </tr>\n",
              "    <tr>\n",
              "      <th>1</th>\n",
              "      <td>日月光華 -- FDU_E.S.E.精華區文章閱讀\\n-------------------...</td>\n",
              "      <td>環境</td>\n",
              "    </tr>\n",
              "    <tr>\n",
              "      <th>2</th>\n",
              "      <td>日月光華 -- FDU_E.S.E.精華區文章閱讀\\n-------------------...</td>\n",
              "      <td>環境</td>\n",
              "    </tr>\n",
              "    <tr>\n",
              "      <th>3</th>\n",
              "      <td>日月光華 -- FDU_E.S.E.精華區文章閱讀\\n-------------------...</td>\n",
              "      <td>環境</td>\n",
              "    </tr>\n",
              "    <tr>\n",
              "      <th>4</th>\n",
              "      <td>日月光華 -- FDU_E.S.E.精華區文章閱讀\\n-------------------...</td>\n",
              "      <td>環境</td>\n",
              "    </tr>\n",
              "    <tr>\n",
              "      <th>...</th>\n",
              "      <td>...</td>\n",
              "      <td>...</td>\n",
              "    </tr>\n",
              "    <tr>\n",
              "      <th>2632</th>\n",
              "      <td>南已有７６人死於艾滋病\\n新華社貝爾格萊德５月２３日電南聯邦衛生局２３...</td>\n",
              "      <td>醫藥</td>\n",
              "    </tr>\n",
              "    <tr>\n",
              "      <th>2633</th>\n",
              "      <td>英研究用血小板輸送藥物治病\\n新華社倫敦５月１４日電（記者王國瑞）英國...</td>\n",
              "      <td>醫藥</td>\n",
              "    </tr>\n",
              "    <tr>\n",
              "      <th>2634</th>\n",
              "      <td>新型肝藥馬洛替酯通過國家鑑定\\n新華社北京５月１１日電（通訊員蘇文）國...</td>\n",
              "      <td>醫藥</td>\n",
              "    </tr>\n",
              "    <tr>\n",
              "      <th>2635</th>\n",
              "      <td>天津一些企業摸索控制醫療費開支新辦法\\n新華社天津５月１７日電（記者孫...</td>\n",
              "      <td>醫藥</td>\n",
              "    </tr>\n",
              "    <tr>\n",
              "      <th>2636</th>\n",
              "      <td>樂山黨員幹部帶頭促進計劃生育工作\\n新華社成都５月１５日電（記者毛朝敬...</td>\n",
              "      <td>醫藥</td>\n",
              "    </tr>\n",
              "  </tbody>\n",
              "</table>\n",
              "<p>2637 rows × 2 columns</p>\n",
              "</div>"
            ],
            "text/plain": [
              "                                                content ans\n",
              "0     日月光華 -- FDU_E.S.E.精華區文章閱讀\\n-------------------...  環境\n",
              "1     日月光華 -- FDU_E.S.E.精華區文章閱讀\\n-------------------...  環境\n",
              "2     日月光華 -- FDU_E.S.E.精華區文章閱讀\\n-------------------...  環境\n",
              "3     日月光華 -- FDU_E.S.E.精華區文章閱讀\\n-------------------...  環境\n",
              "4     日月光華 -- FDU_E.S.E.精華區文章閱讀\\n-------------------...  環境\n",
              "...                                                 ...  ..\n",
              "2632             南已有７６人死於艾滋病\\n新華社貝爾格萊德５月２３日電南聯邦衛生局２３...  醫藥\n",
              "2633             英研究用血小板輸送藥物治病\\n新華社倫敦５月１４日電（記者王國瑞）英國...  醫藥\n",
              "2634             新型肝藥馬洛替酯通過國家鑑定\\n新華社北京５月１１日電（通訊員蘇文）國...  醫藥\n",
              "2635             天津一些企業摸索控制醫療費開支新辦法\\n新華社天津５月１７日電（記者孫...  醫藥\n",
              "2636             樂山黨員幹部帶頭促進計劃生育工作\\n新華社成都５月１５日電（記者毛朝敬...  醫藥\n",
              "\n",
              "[2637 rows x 2 columns]"
            ]
          },
          "metadata": {
            "tags": []
          },
          "execution_count": 103
        }
      ]
    },
    {
      "cell_type": "code",
      "metadata": {
        "colab": {
          "base_uri": "https://localhost:8080/"
        },
        "id": "UwEPZsos89b4",
        "outputId": "01ed3376-dfa7-4082-adbe-494ca8556746"
      },
      "source": [
        "u = train_df[\"ans\"].unique()\n",
        "name2cat = {name:i for i, name in enumerate(u)}\n",
        "cat2name = {i:name for i, name in enumerate(u)}\n",
        "y_test = test_df[\"ans\"].replace(name2cat)\n",
        "y_train"
      ],
      "execution_count": null,
      "outputs": [
        {
          "output_type": "execute_result",
          "data": {
            "text/plain": [
              "0       0\n",
              "1       0\n",
              "2       0\n",
              "3       0\n",
              "4       0\n",
              "       ..\n",
              "2632    9\n",
              "2633    9\n",
              "2634    9\n",
              "2635    9\n",
              "2636    9\n",
              "Name: ans, Length: 2637, dtype: int64"
            ]
          },
          "metadata": {
            "tags": []
          },
          "execution_count": 104
        }
      ]
    },
    {
      "cell_type": "code",
      "metadata": {
        "colab": {
          "base_uri": "https://localhost:8080/"
        },
        "id": "useIfKxOHMQS",
        "outputId": "9affbe1e-f7a3-40e6-a20a-08637ccb5da4"
      },
      "source": [
        "# 載入大字典(jieba)\n",
        "from urllib.request import urlretrieve\n",
        "url = \"https://github.com/fxsjy/jieba/raw/master/extra_dict/dict.txt.big\"\n",
        "urlretrieve(url, \"dict.text.big\")"
      ],
      "execution_count": null,
      "outputs": [
        {
          "output_type": "execute_result",
          "data": {
            "text/plain": [
              "('dict.text.big', <http.client.HTTPMessage at 0x7fb458001450>)"
            ]
          },
          "metadata": {
            "tags": []
          },
          "execution_count": 105
        }
      ]
    },
    {
      "cell_type": "code",
      "metadata": {
        "colab": {
          "base_uri": "https://localhost:8080/"
        },
        "id": "Mlofxz8L9g_r",
        "outputId": "90e43651-bbf7-4565-c67c-748acc422488"
      },
      "source": [
        "import jieba\n",
        "# 插入大字典\n",
        "jieba.set_dictionary(\"dict.text.big\")\n",
        "def newscut(n):\n",
        "  return \" \" .join(jieba.cut(n))\n",
        "x_train = train_df[\"content\"].apply(newscut)\n",
        "x_test = test_df[\"content\"].apply(newscut)\n",
        "x_test"
      ],
      "execution_count": null,
      "outputs": [
        {
          "output_type": "stream",
          "text": [
            "Building prefix dict from /content/dict.text.big ...\n",
            "Dumping model to file cache /tmp/jieba.u39b6bb440e67e760fa0e9a4a04f130c8.cache\n",
            "Loading model cost 1.678 seconds.\n",
            "Prefix dict has been built successfully.\n"
          ],
          "name": "stderr"
        },
        {
          "output_type": "execute_result",
          "data": {
            "text/plain": [
              "0      日月 光華   --   FDU _ E . S . E . 精華區 文章 閱讀 \\n --...\n",
              "1      日月 光華   --   FDU _ E . S . E . 精華區 文章 閱讀 \\n --...\n",
              "2      日月 光華   --   FDU _ E . S . E . 精華區 文章 閱讀 \\n --...\n",
              "3      日月 光華   --   FDU _ E . S . E . 精華區 文章 閱讀 \\n --...\n",
              "4      日月 光華   --   FDU _ E . S . E . 精華區 文章 閱讀 \\n --...\n",
              "                             ...                        \n",
              "96     日月 光華   --   Health 精華區 文章 閱讀 \\n -------------...\n",
              "97     日月 光華   --   Health 精華區 文章 閱讀 \\n -------------...\n",
              "98     日月 光華   --   Health 精華區 文章 閱讀 \\n -------------...\n",
              "99     日月 光華   --   Health 精華區 文章 閱讀 \\n -------------...\n",
              "100    日月 光華   --   Health 精華區 文章 閱讀 \\n -------------...\n",
              "Name: content, Length: 101, dtype: object"
            ]
          },
          "metadata": {
            "tags": []
          },
          "execution_count": 106
        }
      ]
    },
    {
      "cell_type": "code",
      "metadata": {
        "id": "BOXdJaSg-UiA"
      },
      "source": [
        "from sklearn.feature_extraction.text import CountVectorizer\n",
        "vec = CountVectorizer()\n",
        "x_train_count = vec.fit_transform(x_train)\n",
        "x_test_count = vec.transform(x_test)"
      ],
      "execution_count": null,
      "outputs": []
    },
    {
      "cell_type": "code",
      "metadata": {
        "colab": {
          "base_uri": "https://localhost:8080/"
        },
        "id": "_w_bI0sq-aHA",
        "outputId": "c5c7504e-35c1-4179-abff-cd77d618dc2c"
      },
      "source": [
        "vec.vocabulary_\n",
        "x_train_count\n",
        "# print(x_test_count)"
      ],
      "execution_count": null,
      "outputs": [
        {
          "output_type": "execute_result",
          "data": {
            "text/plain": [
              "<2637x76399 sparse matrix of type '<class 'numpy.int64'>'\n",
              "\twith 448436 stored elements in Compressed Sparse Row format>"
            ]
          },
          "metadata": {
            "tags": []
          },
          "execution_count": 108
        }
      ]
    },
    {
      "cell_type": "code",
      "metadata": {
        "colab": {
          "base_uri": "https://localhost:8080/"
        },
        "id": "EA81npGP-rju",
        "outputId": "ad39e889-c298-4653-935d-891e5852dc16"
      },
      "source": [
        "from sklearn.naive_bayes import MultinomialNB\n",
        "clf = MultinomialNB(alpha = 0.1)\n",
        "clf.fit(x_train_count, y_train)"
      ],
      "execution_count": null,
      "outputs": [
        {
          "output_type": "execute_result",
          "data": {
            "text/plain": [
              "MultinomialNB(alpha=0.1, class_prior=None, fit_prior=True)"
            ]
          },
          "metadata": {
            "tags": []
          },
          "execution_count": 109
        }
      ]
    },
    {
      "cell_type": "code",
      "metadata": {
        "colab": {
          "base_uri": "https://localhost:8080/"
        },
        "id": "zaw0KLXF-trU",
        "outputId": "83e1298e-a5eb-4e52-e6b3-310359a661ec"
      },
      "source": [
        "from sklearn.metrics import accuracy_score, log_loss\n",
        "pre = clf.predict(x_test_count)\n",
        "print(accuracy_score(pre, y_test))\n",
        "prob = clf.predict_proba(x_test_count)\n",
        "print(log_loss(y_test, prob))"
      ],
      "execution_count": null,
      "outputs": [
        {
          "output_type": "stream",
          "text": [
            "1.0\n",
            "9.192866490039826e-15\n"
          ],
          "name": "stdout"
        }
      ]
    },
    {
      "cell_type": "code",
      "metadata": {
        "colab": {
          "base_uri": "https://localhost:8080/",
          "height": 359
        },
        "id": "HgdxPrHN-xCg",
        "outputId": "4d5c37c6-592e-4efa-f96b-b9abc25cac67"
      },
      "source": [
        "from sklearn.metrics import confusion_matrix\n",
        "mat = confusion_matrix(y_test, pre)\n",
        "pd.DataFrame(mat,\n",
        "       index = [name + \"(原本)\" for name in u],\n",
        "       columns = [name + \"(預測)\" for name in u])"
      ],
      "execution_count": null,
      "outputs": [
        {
          "output_type": "execute_result",
          "data": {
            "text/html": [
              "<div>\n",
              "<style scoped>\n",
              "    .dataframe tbody tr th:only-of-type {\n",
              "        vertical-align: middle;\n",
              "    }\n",
              "\n",
              "    .dataframe tbody tr th {\n",
              "        vertical-align: top;\n",
              "    }\n",
              "\n",
              "    .dataframe thead th {\n",
              "        text-align: right;\n",
              "    }\n",
              "</style>\n",
              "<table border=\"1\" class=\"dataframe\">\n",
              "  <thead>\n",
              "    <tr style=\"text-align: right;\">\n",
              "      <th></th>\n",
              "      <th>環境(預測)</th>\n",
              "      <th>政治(預測)</th>\n",
              "      <th>交通(預測)</th>\n",
              "      <th>計算機(預測)</th>\n",
              "      <th>教育(預測)</th>\n",
              "      <th>軍事(預測)</th>\n",
              "      <th>經濟(預測)</th>\n",
              "      <th>體育(預測)</th>\n",
              "      <th>藝術(預測)</th>\n",
              "      <th>醫藥(預測)</th>\n",
              "    </tr>\n",
              "  </thead>\n",
              "  <tbody>\n",
              "    <tr>\n",
              "      <th>環境(原本)</th>\n",
              "      <td>10</td>\n",
              "      <td>0</td>\n",
              "      <td>0</td>\n",
              "      <td>0</td>\n",
              "      <td>0</td>\n",
              "      <td>0</td>\n",
              "      <td>0</td>\n",
              "      <td>0</td>\n",
              "      <td>0</td>\n",
              "      <td>0</td>\n",
              "    </tr>\n",
              "    <tr>\n",
              "      <th>政治(原本)</th>\n",
              "      <td>0</td>\n",
              "      <td>11</td>\n",
              "      <td>0</td>\n",
              "      <td>0</td>\n",
              "      <td>0</td>\n",
              "      <td>0</td>\n",
              "      <td>0</td>\n",
              "      <td>0</td>\n",
              "      <td>0</td>\n",
              "      <td>0</td>\n",
              "    </tr>\n",
              "    <tr>\n",
              "      <th>交通(原本)</th>\n",
              "      <td>0</td>\n",
              "      <td>0</td>\n",
              "      <td>10</td>\n",
              "      <td>0</td>\n",
              "      <td>0</td>\n",
              "      <td>0</td>\n",
              "      <td>0</td>\n",
              "      <td>0</td>\n",
              "      <td>0</td>\n",
              "      <td>0</td>\n",
              "    </tr>\n",
              "    <tr>\n",
              "      <th>計算機(原本)</th>\n",
              "      <td>0</td>\n",
              "      <td>0</td>\n",
              "      <td>0</td>\n",
              "      <td>10</td>\n",
              "      <td>0</td>\n",
              "      <td>0</td>\n",
              "      <td>0</td>\n",
              "      <td>0</td>\n",
              "      <td>0</td>\n",
              "      <td>0</td>\n",
              "    </tr>\n",
              "    <tr>\n",
              "      <th>教育(原本)</th>\n",
              "      <td>0</td>\n",
              "      <td>0</td>\n",
              "      <td>0</td>\n",
              "      <td>0</td>\n",
              "      <td>10</td>\n",
              "      <td>0</td>\n",
              "      <td>0</td>\n",
              "      <td>0</td>\n",
              "      <td>0</td>\n",
              "      <td>0</td>\n",
              "    </tr>\n",
              "    <tr>\n",
              "      <th>軍事(原本)</th>\n",
              "      <td>0</td>\n",
              "      <td>0</td>\n",
              "      <td>0</td>\n",
              "      <td>0</td>\n",
              "      <td>0</td>\n",
              "      <td>10</td>\n",
              "      <td>0</td>\n",
              "      <td>0</td>\n",
              "      <td>0</td>\n",
              "      <td>0</td>\n",
              "    </tr>\n",
              "    <tr>\n",
              "      <th>經濟(原本)</th>\n",
              "      <td>0</td>\n",
              "      <td>0</td>\n",
              "      <td>0</td>\n",
              "      <td>0</td>\n",
              "      <td>0</td>\n",
              "      <td>0</td>\n",
              "      <td>10</td>\n",
              "      <td>0</td>\n",
              "      <td>0</td>\n",
              "      <td>0</td>\n",
              "    </tr>\n",
              "    <tr>\n",
              "      <th>體育(原本)</th>\n",
              "      <td>0</td>\n",
              "      <td>0</td>\n",
              "      <td>0</td>\n",
              "      <td>0</td>\n",
              "      <td>0</td>\n",
              "      <td>0</td>\n",
              "      <td>0</td>\n",
              "      <td>10</td>\n",
              "      <td>0</td>\n",
              "      <td>0</td>\n",
              "    </tr>\n",
              "    <tr>\n",
              "      <th>藝術(原本)</th>\n",
              "      <td>0</td>\n",
              "      <td>0</td>\n",
              "      <td>0</td>\n",
              "      <td>0</td>\n",
              "      <td>0</td>\n",
              "      <td>0</td>\n",
              "      <td>0</td>\n",
              "      <td>0</td>\n",
              "      <td>10</td>\n",
              "      <td>0</td>\n",
              "    </tr>\n",
              "    <tr>\n",
              "      <th>醫藥(原本)</th>\n",
              "      <td>0</td>\n",
              "      <td>0</td>\n",
              "      <td>0</td>\n",
              "      <td>0</td>\n",
              "      <td>0</td>\n",
              "      <td>0</td>\n",
              "      <td>0</td>\n",
              "      <td>0</td>\n",
              "      <td>0</td>\n",
              "      <td>10</td>\n",
              "    </tr>\n",
              "  </tbody>\n",
              "</table>\n",
              "</div>"
            ],
            "text/plain": [
              "         環境(預測)  政治(預測)  交通(預測)  計算機(預測)  ...  經濟(預測)  體育(預測)  藝術(預測)  醫藥(預測)\n",
              "環境(原本)       10       0       0        0  ...       0       0       0       0\n",
              "政治(原本)        0      11       0        0  ...       0       0       0       0\n",
              "交通(原本)        0       0      10        0  ...       0       0       0       0\n",
              "計算機(原本)       0       0       0       10  ...       0       0       0       0\n",
              "教育(原本)        0       0       0        0  ...       0       0       0       0\n",
              "軍事(原本)        0       0       0        0  ...       0       0       0       0\n",
              "經濟(原本)        0       0       0        0  ...      10       0       0       0\n",
              "體育(原本)        0       0       0        0  ...       0      10       0       0\n",
              "藝術(原本)        0       0       0        0  ...       0       0      10       0\n",
              "醫藥(原本)        0       0       0        0  ...       0       0       0      10\n",
              "\n",
              "[10 rows x 10 columns]"
            ]
          },
          "metadata": {
            "tags": []
          },
          "execution_count": 111
        }
      ]
    },
    {
      "cell_type": "code",
      "metadata": {
        "colab": {
          "base_uri": "https://localhost:8080/"
        },
        "id": "Gnxoudif-zQ0",
        "outputId": "4e562fa4-2c7c-48f1-e13b-7b5893d18d3f"
      },
      "source": [
        "n = input(\"write:\")\n",
        "test = vec.transform([newscut(n)])\n",
        "prob = clf.predict_proba(test)[0]\n",
        "for i in range(len(u)):\n",
        "  print(u[i], \"的機率：\", round(prob[i], 3))"
      ],
      "execution_count": null,
      "outputs": [
        {
          "output_type": "stream",
          "text": [
            "write:二刀流可不是大谷翔平的專利，光芒隊大物新秀麥凱(Brendan McKay)去年（2020）因傷被迫關機，本季春訓再次回歸，他透露自己將持續以二刀流身份出賽。  麥凱在2年前（2019）登上大聯盟，當時在13次出賽中主投49局，繳出防禦5.14的成績，打擊方面則是10支2，包含一發全壘打，隔年光芒隊要他更加著重於投球的訓練，但在他7月時被新冠病毒檢驗為陽性後一切又變了調，他錯過了小聯盟夏季聯賽的剩餘賽事，康復後在牛棚試投幾球還是覺得肩膀不適。  去年8月麥凱接受核磁共振檢驗，發現他由於肩關節唇撕裂導致肩後發炎，隨後進行了手術而提前結束賽季，今年春訓比起投球，他提升了更多打擊上的訓練比重，過去在小聯盟559個打席中繳出.214打擊率和.697的攻擊指數，附帶15發全壘打看似平庸，但在大學時期他可是打擊三圍.328/.430/.536的強打者，他表示自己在12月中旬開始練習揮棒，先前的工作只是讓自己回復比賽時的狀態，並透露現在的揮棒感覺相當不賴。  麥凱預計將在3月底的熱身賽以投手身份登板，對新秀排名第72、同時也是十大左投第10名的他來說是個證明自己的好機會，然而日前又因為將狗狗玩具上的標籤剪下時意外劃傷自己的左手食指，使得他不得不將投球訓練暫停，麥凱隨後向媒體表示自己將儘快復原重返軌道。  麥凱也透露自己花了很多時間看熱身賽比賽，並時常留意同為投打二刀流的大谷翔平，他得知大谷既可以飆出三位數火球，又能在打擊區敲全壘打，在被記者問到如何看待自己現在是個投手還是打者時，他回答：「現在依舊兩者皆是。」\n",
            "環境 的機率： 0.0\n",
            "政治 的機率： 0.0\n",
            "交通 的機率： 0.0\n",
            "計算機 的機率： 0.0\n",
            "教育 的機率： 0.0\n",
            "軍事 的機率： 0.0\n",
            "經濟 的機率： 0.0\n",
            "體育 的機率： 1.0\n",
            "藝術 的機率： 0.0\n",
            "醫藥 的機率： 0.0\n"
          ],
          "name": "stdout"
        }
      ]
    },
    {
      "cell_type": "code",
      "metadata": {
        "colab": {
          "base_uri": "https://localhost:8080/"
        },
        "id": "uXFnh1h_sGG5",
        "outputId": "2b73f48d-30b7-44d6-a44f-8d2cbff99111"
      },
      "source": [
        "# 安裝opencc程式碼 中文繁簡轉換\n",
        "# https://pypi.org/project/opencc-python-reimplemented/\n",
        "!pip install opencc-python-reimplemented"
      ],
      "execution_count": null,
      "outputs": [
        {
          "output_type": "stream",
          "text": [
            "Requirement already satisfied: opencc-python-reimplemented in /usr/local/lib/python3.7/dist-packages (0.1.6)\n"
          ],
          "name": "stdout"
        }
      ]
    },
    {
      "cell_type": "code",
      "metadata": {
        "colab": {
          "base_uri": "https://localhost:8080/",
          "height": 35
        },
        "id": "ISeL0a3otJrx",
        "outputId": "ce151359-3652-4bc0-b063-9ab32b092afe"
      },
      "source": [
        "from opencc import OpenCC\n",
        "cc = OpenCC('s2twp')  # convert from Simplified Chinese to Traditional Chinese\n",
        "# can also set conversion by calling set_conversion\n",
        "# cc.set_conversion('s2tw')\n",
        "to_convert = '开放中文转换'\n",
        "converted = cc.convert(to_convert)\n",
        "converted"
      ],
      "execution_count": null,
      "outputs": [
        {
          "output_type": "execute_result",
          "data": {
            "application/vnd.google.colaboratory.intrinsic+json": {
              "type": "string"
            },
            "text/plain": [
              "'開放中文轉換'"
            ]
          },
          "metadata": {
            "tags": []
          },
          "execution_count": 115
        }
      ]
    }
  ]
}