{
  "nbformat": 4,
  "nbformat_minor": 0,
  "metadata": {
    "colab": {
      "name": "MLP_fashion_mnist.ipynb",
      "provenance": [],
      "authorship_tag": "ABX9TyOsyqGM6EnNUHowu3C/eUNY",
      "include_colab_link": true
    },
    "kernelspec": {
      "name": "python3",
      "display_name": "Python 3"
    },
    "language_info": {
      "name": "python"
    }
  },
  "cells": [
    {
      "cell_type": "markdown",
      "metadata": {
        "id": "view-in-github",
        "colab_type": "text"
      },
      "source": [
        "<a href=\"https://colab.research.google.com/github/spingtseng/Basic_ML/blob/main/MLP_fashion_mnist.ipynb\" target=\"_parent\"><img src=\"https://colab.research.google.com/assets/colab-badge.svg\" alt=\"Open In Colab\"/></a>"
      ]
    },
    {
      "cell_type": "code",
      "metadata": {
        "id": "go5oXhRontlI"
      },
      "source": [
        "from tensorflow.keras.datasets.fashion_mnist import load_data\n",
        "(x_train, y_train), (x_test, y_test) = load_data()"
      ],
      "execution_count": null,
      "outputs": []
    },
    {
      "cell_type": "code",
      "metadata": {
        "id": "1GOJhLY8ovmW"
      },
      "source": [
        "print(x_train.shape)\n",
        "print(y_train.shape)\n",
        "print(x_test.shape)\n",
        "print(y_test.shape)"
      ],
      "execution_count": null,
      "outputs": []
    },
    {
      "cell_type": "code",
      "metadata": {
        "id": "A4VpTmtG2kW2"
      },
      "source": [
        "trans = [\n",
        "\t\"T-shirt\",\n",
        "\t\"Trouser\",\n",
        "\t\"Pullover\",\n",
        "\t\"Dress\",\n",
        "\t\"Coat\",\n",
        "\t\"Sandal\",\n",
        "\t\"Shirt\",\n",
        "\t\"Sneaker\",\n",
        "\t\"Bag\",\n",
        "\t\"boot\"\n",
        "]"
      ],
      "execution_count": null,
      "outputs": []
    },
    {
      "cell_type": "code",
      "metadata": {
        "id": "A1llSH8tpC7a"
      },
      "source": [
        "import matplotlib.pyplot as plt\n",
        "plt.imshow(x_train[0])"
      ],
      "execution_count": null,
      "outputs": []
    },
    {
      "cell_type": "code",
      "metadata": {
        "id": "5TmRoUTlvr9r"
      },
      "source": [
        "import pandas as pd\n",
        "pd.DataFrame(x_train[0])"
      ],
      "execution_count": null,
      "outputs": []
    },
    {
      "cell_type": "markdown",
      "metadata": {
        "id": "DWHMbx8xLeir"
      },
      "source": [
        "##**<u>Dropout**</u><br>\n",
        "####防止過擬合、過度依賴<br><br>\n",
        "使用原因：<font color=#FF0000>**過度依賴**</font>在某個神經元上面，導致沒有它的時候一定會錯，造成過擬合<br>\n",
        "解決方法：也讓其他人做訓練，蓋掉最突出的去做訊練，讓其他人也有機會去判定<br>\n",
        "固定在每次訓練的時候，把一些神經元丟掉，刻意的不讓它參與訓練，其他的就有訓練機會<br><br>\n",
        "**<u>Dropout(0.5-0.25)</u>**　   <br>\n",
        "通常在0.5-0.25之間　   (隨機Dropout掉0.5-0.25的神經元)<br>\n",
        "PS.假設有128個神經元，dropout(0.5)，就剩64個神經元可以訓練<br><br>\n",
        "Dropout是為了應付意外狀況，並不是提高正確率\n"
      ]
    },
    {
      "cell_type": "code",
      "metadata": {
        "id": "ADzp8iPcpoNo"
      },
      "source": [
        "from tensorflow.keras.models import Sequential, load_model\n",
        "from tensorflow.keras.layers import Dense, Dropout\n",
        "from tensorflow.keras.losses import CategoricalCrossentropy\n",
        "import os\n",
        "if os.path.exists(\"mlp.h5\"):\n",
        "    print(\"模型存在, 直接讀取\")\n",
        "    model = load_model(\"mlp.h5\")\n",
        "else:\n",
        "    layers = [\n",
        "        # 784 * 256 + 256(bias)\n",
        "        Dense(256, activation=\"relu\", input_dim=784),\n",
        "        Dropout(0.25),\n",
        "        # 128 * 10 + 10(bias)\n",
        "        Dense(10, activation=\"softmax\")\n",
        "    ]\n",
        "    model = Sequential(layers)\n",
        "    model.compile(loss=CategoricalCrossentropy(),\n",
        "       metrics=[\"accuracy\"],\n",
        "       optimizer=\"adam\")\n",
        "model.summary()"
      ],
      "execution_count": null,
      "outputs": []
    },
    {
      "cell_type": "code",
      "metadata": {
        "id": "qlj40R3Aq0CL"
      },
      "source": [
        "from tensorflow.keras.losses import CategoricalCrossentropy\n",
        "model.compile(loss=CategoricalCrossentropy(),\n",
        "       metrics=[\"accuracy\"],\n",
        "       optimizer=\"adam\")"
      ],
      "execution_count": null,
      "outputs": []
    },
    {
      "cell_type": "code",
      "metadata": {
        "id": "uhPbgN-1rZXj"
      },
      "source": [
        "from tensorflow.keras.utils import to_categorical\n",
        "y_train_cat = to_categorical(y_train, 10)\n",
        "y_test_cat = to_categorical(y_test, 10)\n",
        "print(y_train[0])\n",
        "print(y_train_cat[0])"
      ],
      "execution_count": null,
      "outputs": []
    },
    {
      "cell_type": "code",
      "metadata": {
        "id": "-t5QVqDSr4Qr"
      },
      "source": [
        "x_train_shape = x_train.reshape(-1, 784) / 255.0\n",
        "x_test_shape = x_test.reshape(-1, 784) / 255.0"
      ],
      "execution_count": null,
      "outputs": []
    },
    {
      "cell_type": "code",
      "metadata": {
        "id": "B3mTetEPsP7L"
      },
      "source": [
        "from tensorflow.keras.callbacks import EarlyStopping, ModelCheckpoint\n",
        "callbacks = [\n",
        "      EarlyStopping(patience = 5, restore_best_weights=True),\n",
        "      ModelCheckpoint(\"mlp.h5\", save_best_only=True)\n",
        "]\n",
        "model.fit(x_train_shape,\n",
        "     y_train_cat,\n",
        "     batch_size = 200,\n",
        "     epochs = 50,\n",
        "     verbose = 2,\n",
        "     validation_split = 0.1,\n",
        "     callbacks = callbacks)"
      ],
      "execution_count": null,
      "outputs": []
    },
    {
      "cell_type": "code",
      "metadata": {
        "id": "JyF_qGloyIFO"
      },
      "source": [
        "# model.save()\n",
        "model.evaluate(x_test_shape, y_test_cat)"
      ],
      "execution_count": null,
      "outputs": []
    },
    {
      "cell_type": "code",
      "metadata": {
        "id": "6-qEpvnOyPLv"
      },
      "source": [
        "from sklearn.metrics import confusion_matrix\n",
        "pre = model.predict_classes(x_test_shape)\n",
        "mat = confusion_matrix(y_test, pre)\n",
        "pd.DataFrame(mat,\n",
        "       columns=[str(i) + \"(預測)\" for i in range(10)],\n",
        "       index=[str(i) + \"(正確)\" for i in range(10)]\n",
        ")"
      ],
      "execution_count": null,
      "outputs": []
    },
    {
      "cell_type": "code",
      "metadata": {
        "id": "cx9UxOgS2-Nn"
      },
      "source": [
        "import numpy as np\n",
        "idx = np.nonzero(pre != y_test)[0][:200]\n",
        "false_img = x_test[idx]\n",
        "false_pre = pre[idx]\n",
        "false_label = y_test[idx]\n",
        "plt.figure(figsize=(14, 42))\n",
        "width = 10\n",
        "height = len(idx) // width + 1\n",
        "for i in range(len(idx)):\n",
        "    plt.subplot(height, width, i+1)\n",
        "    plt.imshow(false_img[i])\n",
        "    t = \"[O]:{}\\n[P]:{}\".format(trans[false_label[i]], trans[false_pre[i]])\n",
        "    plt.title(t)\n",
        "    plt.axis(\"off\")"
      ],
      "execution_count": null,
      "outputs": []
    },
    {
      "cell_type": "code",
      "metadata": {
        "id": "7DnFJCcs3C7n"
      },
      "source": [
        "# Pillow\n",
        "import requests\n",
        "from PIL import Image\n",
        "# RGB, RGBA, L(gray)\n",
        "url = input(\"url:\")\n",
        "headers = {\n",
        "  \"user-agent\":\"user-agent: Mozilla/5.0 (Windows NT 10.0; Win64; x64) AppleWebKit/537.36 (KHTML, like Gecko) Chrome/89.0.4389.90 Safari/537.36\"  \n",
        "}\n",
        "response = requests.get(url, headers=headers, stream=True, verify=False)\n",
        "img = Image.open(response.raw).resize((28, 28)).convert(\"L\")\n",
        "img_np = 255 - np.array(img)\n",
        "img_np_r = img_np.reshape(1, 784) / 255.0\n",
        "proba = model.predict(img_np_r)[0]\n",
        "for i in range(10):\n",
        "    print(trans[i], \"的機率:\", proba[i])\n",
        "ans = model.predict_classes(img_np_r)[0]\n",
        "print(\"答案:\", trans[ans])\n",
        "plt.imshow(img_np, \"gray\")"
      ],
      "execution_count": null,
      "outputs": []
    }
  ]
}